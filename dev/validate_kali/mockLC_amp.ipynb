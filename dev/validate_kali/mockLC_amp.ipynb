{
 "cells": [
  {
   "cell_type": "markdown",
   "metadata": {},
   "source": [
    "### Examine the accuracy in the amplitude of mock light curves simulated by `Kali`\n",
    "\n",
    "<br>**Author(s):** Weixiang Yu\n",
    "<br>**Last run:** 07-10-20\n",
    "<br>**Short description:** This notebook will try to validate the `Kali` simulated mock CARMA light curves from the perspective of the amplitude. In short, standard deviation of a simulated light curve should match the input value the amplitude of a CARMA process."
   ]
  },
  {
   "cell_type": "markdown",
   "metadata": {},
   "source": [
    "## 0. Setup"
   ]
  },
  {
   "cell_type": "code",
   "execution_count": 1,
   "metadata": {},
   "outputs": [],
   "source": [
    "# import basic packages\n",
    "import numpy as np\n",
    "import pandas as pd\n",
    "import matplotlib.pyplot as plt\n",
    "import matplotlib as mpl\n",
    "import os, sys\n",
    "\n",
    "# see if local stores mpl style, else use from src\n",
    "try:\n",
    "    plt.style.use('yu_basic')\n",
    "except:\n",
    "    mpl.rc_file('https://raw.githubusercontent.com/ywx649999311/project_template'\n",
    "                '/master/%7B%7Bcookiecutter.project_name%7D%7D/src/vis/mpl/yu_basic.rc')\n",
    "    \n",
    "pd.set_option('display.max_columns', 999)\n",
    "%matplotlib inline\n",
    "\n",
    "import dask"
   ]
  },
  {
   "cell_type": "code",
   "execution_count": 2,
   "metadata": {},
   "outputs": [],
   "source": [
    "# import kali modules\n",
    "import kali.carma"
   ]
  },
  {
   "cell_type": "markdown",
   "metadata": {},
   "source": [
    "## 1. Test Mock LC\n",
    "### 1.1 Mock DRW LC\n",
    "In this section, we will simulate a collection of DRW light curves using a grid placed in the parameter space of $\\tau$ and the standard deviate ($\\sigma_{DRW}^{2} = \\frac{\\tau\\sigma^{2}}{2}$) of the simulated light curves. We will uniformly draw parameters from 10 days < $\\tau$ < 365 days and 0.05 mag < $\\sigma_{DRW}$ < 0.35 mag. The simulated light curves will have a 1 day cadence and 10/50 years baseline."
   ]
  },
  {
   "cell_type": "markdown",
   "metadata": {},
   "source": [
    "#### 1.1.1 Compute percentage err (LC length = 10 years)"
   ]
  },
  {
   "cell_type": "code",
   "execution_count": 3,
   "metadata": {},
   "outputs": [],
   "source": [
    "# funtion to parallel LC simulation with Dask\n",
    "@dask.delayed\n",
    "def simLC(lcArr, theta, row, col, dt=1.0, duration=3650.0):\n",
    "\n",
    "    try:\n",
    "        lc_length = int(duration/dt)\n",
    "        task = kali.carma.CARMATask(1,0)\n",
    "        task.set(dt, theta)\n",
    "        lc = task.simulate(duration=duration)\n",
    "        lcArr[row, col, :] = lc.x\n",
    "    except:\n",
    "        print(f'Failed at ({row}, {col})!')\n",
    "        return 1\n",
    "    \n",
    "    return 0"
   ]
  },
  {
   "cell_type": "code",
   "execution_count": 7,
   "metadata": {},
   "outputs": [],
   "source": [
    "# construct grid in param space\n",
    "dim = 50\n",
    "sigma_drw = np.linspace(0.05, 0.35, dim)\n",
    "tau = np.linspace(10, 365, dim)\n",
    "# print(f'Input amp: \\n {sigma_drw} \\n')\n",
    "# print(f'Input timscale: \\n{tau}')\n",
    "\n",
    "# construct arr to store lc\n",
    "lc_arr1 = np.empty((dim,dim,3650))"
   ]
  },
  {
   "cell_type": "code",
   "execution_count": 8,
   "metadata": {},
   "outputs": [
    {
     "name": "stdout",
     "output_type": "stream",
     "text": [
      "0\n"
     ]
    }
   ],
   "source": [
    "#simLC\n",
    "all_result1 = []\n",
    "for tau_i in range(dim):\n",
    "    for var_i in range(dim):\n",
    "        theta = kali.carma.coeffs(1,0, np.array([-1/tau[tau_i], sigma_drw[var_i]]))\n",
    "        all_result1.append(simLC(lc_arr1, theta, tau_i, var_i, duration=3650.0))\n",
    "total1 = dask.delayed(sum)(all_result1)\n",
    "sum_num1 = total1.compute()\n",
    "print(sum_num1)"
   ]
  },
  {
   "cell_type": "code",
   "execution_count": 9,
   "metadata": {},
   "outputs": [],
   "source": [
    "# compute amp from simulated lc\n",
    "std_arr1 = np.empty((dim,dim))\n",
    "for tau_i in range(dim):\n",
    "    for var_i in range(dim):\n",
    "        std_arr1[tau_i, var_i] = np.std(lc_arr1[tau_i, var_i, :])"
   ]
  },
  {
   "cell_type": "code",
   "execution_count": 10,
   "metadata": {},
   "outputs": [],
   "source": [
    "# compare percentage error to input\n",
    "input_2d_amp = np.repeat(np.expand_dims(sigma_drw, axis=0), dim, axis=0)\n",
    "diff_amp1 = np.abs(std_arr1 - input_2d_amp)\n",
    "percent_err1 = 100*diff_amp1/input_2d_amp"
   ]
  },
  {
   "cell_type": "markdown",
   "metadata": {},
   "source": [
    "#### 1.1.2 Compute percentage err (LC length = 50 years)"
   ]
  },
  {
   "cell_type": "code",
   "execution_count": 11,
   "metadata": {},
   "outputs": [],
   "source": [
    "# construct arr to store lc\n",
    "lc_arr2 = np.empty((dim,dim,10*3650))"
   ]
  },
  {
   "cell_type": "code",
   "execution_count": 13,
   "metadata": {},
   "outputs": [
    {
     "name": "stdout",
     "output_type": "stream",
     "text": [
      "0\n"
     ]
    }
   ],
   "source": [
    "all_result2 = []\n",
    "for tau_i in range(dim):\n",
    "    for var_i in range(dim):\n",
    "        theta = kali.carma.coeffs(1,0, np.array([-1/tau[tau_i], sigma_drw[var_i]]))\n",
    "        all_result2.append(simLC(lc_arr2, theta, tau_i, var_i, duration=10*3650.0))\n",
    "total2 = dask.delayed(sum)(all_result2)\n",
    "sum_num2 = total2.compute()\n",
    "print(sum_num2)"
   ]
  },
  {
   "cell_type": "code",
   "execution_count": 106,
   "metadata": {},
   "outputs": [],
   "source": [
    "# compute amp from simulated lc\n",
    "std_arr2 = np.empty((dim,dim))\n",
    "for tau_i in range(dim):\n",
    "    for var_i in range(dim):\n",
    "        std_arr2[tau_i, var_i] = np.std(lc_arr2[tau_i, var_i, ::10])"
   ]
  },
  {
   "cell_type": "code",
   "execution_count": 107,
   "metadata": {},
   "outputs": [],
   "source": [
    "# compare percentage error to input\n",
    "input_2d_amp = np.repeat(np.expand_dims(sigma_drw, axis=0), dim, axis=0)\n",
    "diff_amp2 = np.abs(std_arr2 - input_2d_amp)\n",
    "percent_err2 = 100*diff_amp2/input_2d_amp"
   ]
  },
  {
   "cell_type": "markdown",
   "metadata": {},
   "source": [
    "#### 1.1.3 Plot perfentage error as function of timescales (compare 10 years vs. 100 years)"
   ]
  },
  {
   "cell_type": "code",
   "execution_count": 108,
   "metadata": {},
   "outputs": [
    {
     "data": {
      "text/plain": [
       "Text(0.5, 1.0, 'Percentage error for 100 years light curves')"
      ]
     },
     "execution_count": 108,
     "metadata": {},
     "output_type": "execute_result"
    },
    {
     "data": {
      "image/png": "[encoded data removed]",
      "text/plain": [
       "<Figure size 1152x576 with 4 Axes>"
      ]
     },
     "metadata": {
      "needs_background": "light"
     },
     "output_type": "display_data"
    }
   ],
   "source": [
    "import matplotlib.colors as colors\n",
    "\n",
    "# plot for 10 year baseline light curves\n",
    "fig, axs = plt.subplots(1, 2, figsize=(16,8))\n",
    "\n",
    "im0 = axs[0].imshow(percent_err1, cmap='hot')\n",
    "im1 = axs[1].imshow(percent_err2, cmap='hot')\n",
    "im0.set_norm(colors.Normalize(vmin=0, vmax=im0.get_array().max()))\n",
    "im1.set_norm(colors.Normalize(vmin=0, vmax=im0.get_array().max()))\n",
    "fig.colorbar(im0, ax=axs[0], shrink=0.75)\n",
    "fig.colorbar(im1, ax=axs[1], shrink=0.75)\n",
    "\n",
    "tick_scale = int(dim/8)\n",
    "_ = axs[0].set_xticks(np.arange(dim)[::tick_scale])\n",
    "_ = axs[0].set_xticklabels(np.around(sigma_drw, 2)[::tick_scale])\n",
    "_ = axs[1].set_xticks(np.arange(dim)[::tick_scale])\n",
    "_ = axs[1].set_xticklabels(np.around(sigma_drw, 2)[::tick_scale])\n",
    "\n",
    "_ = axs[0].set_yticks(np.arange(dim)[::tick_scale])\n",
    "_ = axs[0].set_yticklabels(np.around(tau, 2)[::tick_scale])\n",
    "_ = axs[1].set_yticks(np.arange(dim)[::tick_scale])\n",
    "_ = axs[1].set_yticklabels(np.around(tau, 2)[::tick_scale])\n",
    "\n",
    "fig.text(0.5, 0.1, 'Light curve standard deviation/amplitude (mag)', ha='center', fontsize=20)\n",
    "fig.text(0.03, 0.5, 'Decorrelation timescale of DRW (day)', va='center', rotation='vertical')\n",
    "axs[0].set_title('Percentage error for 10 years light curves', pad=10)\n",
    "axs[1].set_title('Percentage error for 100 years light curves', pad=10)\n",
    "# plt.savefig('Kali_amp_validate.pdf')"
   ]
  },
  {
   "cell_type": "code",
   "execution_count": null,
   "metadata": {},
   "outputs": [],
   "source": []
  }
 ],
 "metadata": {
  "kernelspec": {
   "display_name": "Python 3",
   "language": "python",
   "name": "python3"
  },
  "language_info": {
   "codemirror_mode": {
    "name": "ipython",
    "version": 3
   },
   "file_extension": ".py",
   "mimetype": "text/x-python",
   "name": "python",
   "nbconvert_exporter": "python",
   "pygments_lexer": "ipython3",
   "version": "3.7.6"
  }
 },
 "nbformat": 4,
 "nbformat_minor": 4
}
