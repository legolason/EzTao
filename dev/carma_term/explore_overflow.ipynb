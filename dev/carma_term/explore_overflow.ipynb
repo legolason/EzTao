{
 "cells": [
  {
   "cell_type": "markdown",
   "metadata": {},
   "source": [
    "### Explore the 'overflow' warning/error from the 'CARMATerm.py' in the fitting\n",
    "\n",
    "<br>**Author(s):** Weixiang Yu\n",
    "<br>**Last run:** 08-21-20\n",
    "<br>**Short description:** Explore the 'overflow' warning/error from the 'CARMATerm.py' in the fitting"
   ]
  },
  {
   "cell_type": "code",
   "execution_count": 1,
   "metadata": {},
   "outputs": [],
   "source": [
    "# import basic packages\n",
    "import numpy as np\n",
    "import pandas as pd\n",
    "import matplotlib.pyplot as plt\n",
    "import matplotlib as mpl\n",
    "import os, sys\n",
    "\n",
    "# see if local stores mpl style, else use from src\n",
    "try:\n",
    "    plt.style.use('yu_basic')\n",
    "except:\n",
    "    mpl.rc_file('https://raw.githubusercontent.com/ywx649999311/project_template'\n",
    "                '/master/%7B%7Bcookiecutter.project_name%7D%7D/src/vis/mpl/yu_basic.rc')\n",
    "\n",
    "pd.set_option('display.max_columns', 999)\n",
    "%matplotlib inline"
   ]
  },
  {
   "cell_type": "code",
   "execution_count": 2,
   "metadata": {},
   "outputs": [],
   "source": [
    "# import CARMA celerite term\n",
    "from agntk.carma.CARMATerm import *\n",
    "from agntk.lc.utils import *\n",
    "from celerite import GP\n",
    "from scipy.optimize import minimize\n",
    "import celerite"
   ]
  },
  {
   "cell_type": "markdown",
   "metadata": {},
   "source": [
    "### 1. Simulate DHO LC"
   ]
  },
  {
   "cell_type": "code",
   "execution_count": 3,
   "metadata": {},
   "outputs": [],
   "source": [
    "# define GP model\n",
    "a1 = 0.03939692\n",
    "a2 = 0.00027941\n",
    "b0 = 0.0046724\n",
    "b1 = 0.0256982\n",
    "kernel = DHO_term(np.log(a1), np.log(a2), np.log(b0), np.log(b1))\n",
    "gp = GP(kernel)\n",
    "\n",
    "# check if Celerite give the same amp as Kali\n",
    "assert np.allclose(1.0, kernel.get_amp())"
   ]
  },
  {
   "cell_type": "code",
   "execution_count": 4,
   "metadata": {},
   "outputs": [
    {
     "name": "stdout",
     "output_type": "stream",
     "text": [
      "Mean Sim Std: 0.9455072303426683\n",
      "True Std: 1\n"
     ]
    }
   ],
   "source": [
    "# now simulate 10 years LC\n",
    "npts = 100\n",
    "nLC = 50\n",
    "\n",
    "# init with dense -> add season -> downsample\n",
    "t_init = np.linspace(0, 3650, 10000)\n",
    "yerr_init = np.random.normal(0, 1e-7, 10000) # give very tiny error\n",
    "gp.compute(t_init, yerr_init)\n",
    "y_init = gp.sample(size=nLC)\n",
    "\n",
    "tArr = np.zeros((nLC, npts))\n",
    "yArr = np.zeros((nLC, npts))\n",
    "yerrArr = np.zeros((nLC, npts))\n",
    "\n",
    "for i in range(nLC):    \n",
    "    mask1 = add_season(t_init)\n",
    "    mask2 = downsample_byN(t_init[mask1], npts)\n",
    "    tArr[i,:] = t_init[mask1][mask2]\n",
    "    yArr[i,:] = y_init[i][mask1][mask2]\n",
    "    yerrArr[i,:] = yerr_init[mask1][mask2]\n",
    "\n",
    "\n",
    "print(f'Mean Sim Std: {np.mean(np.std(yArr, axis=1))}')\n",
    "print(f'True Std: {1}')"
   ]
  },
  {
   "cell_type": "markdown",
   "metadata": {},
   "source": [
    "### 2. Search for the error"
   ]
  },
  {
   "cell_type": "code",
   "execution_count": 25,
   "metadata": {},
   "outputs": [],
   "source": [
    "def neg_log_like_1(params, y, yerr, gp):\n",
    "    np.seterr(over='raise')\n",
    "    np.seterr(under='raise')\n",
    "    params = np.array(params)\n",
    "    run = True\n",
    "    lap = 0\n",
    "    try:\n",
    "        while run:\n",
    "            if lap > 50:\n",
    "                return -np.inf\n",
    "\n",
    "            lap += 1\n",
    "            try:\n",
    "                gp.set_parameter_vector(params)\n",
    "                neg_ll = -gp.log_likelihood(y)\n",
    "                run=False\n",
    "            except celerite.solver.LinAlgError:\n",
    "                params += 1e-6*np.random.randn(4)\n",
    "                continue\n",
    "            except np.linalg.LinAlgError:\n",
    "                params += 1e-6*np.random.randn(4)\n",
    "                continue\n",
    "    except FloatingPointError as e:\n",
    "        print(params)\n",
    "        print(e)\n",
    "#         return -np.inf\n",
    "    return neg_ll\n",
    "\n",
    "def neg_log_like_2(params, y, yerr, gp):\n",
    "    np.seterr(over='raise')\n",
    "    np.seterr(under='raise')\n",
    "    params = np.array(params)\n",
    "    run = True\n",
    "    lap = 0\n",
    "    try:\n",
    "        while run:\n",
    "            if lap > 50:\n",
    "                return -np.inf\n",
    "\n",
    "            lap += 1\n",
    "            try:\n",
    "                gp.set_parameter_vector(params)\n",
    "                neg_ll = -gp.log_likelihood(y)\n",
    "                run=False\n",
    "            except celerite.solver.LinAlgError:\n",
    "                params += 1e-6*np.random.randn(4)\n",
    "                continue\n",
    "            except np.linalg.LinAlgError:\n",
    "                params += 1e-6*np.random.randn(4)\n",
    "                continue\n",
    "    except FloatingPointError as e:\n",
    "        return -np.inf\n",
    "    return neg_ll"
   ]
  },
  {
   "cell_type": "code",
   "execution_count": 26,
   "metadata": {},
   "outputs": [
    {
     "name": "stdout",
     "output_type": "stream",
     "text": [
      "[ -49.33769902 -107.3207002   -46.53760524  819.52104745]\n",
      "overflow encountered in exp\n"
     ]
    },
    {
     "ename": "UnboundLocalError",
     "evalue": "local variable 'neg_ll' referenced before assignment",
     "output_type": "error",
     "traceback": [
      "\u001b[0;31m---------------------------------------------------------------------------\u001b[0m",
      "\u001b[0;31mUnboundLocalError\u001b[0m                         Traceback (most recent call last)",
      "\u001b[0;32m<ipython-input-26-fc74a1e25885>\u001b[0m in \u001b[0;36m<module>\u001b[0;34m\u001b[0m\n\u001b[1;32m     16\u001b[0m \u001b[0;34m\u001b[0m\u001b[0m\n\u001b[1;32m     17\u001b[0m     ret = minimize(neg_log_like_1, initial_params, method=\"L-BFGS-B\", bounds=bounds, \\\n\u001b[0;32m---> 18\u001b[0;31m                  args=(yArr[i], yerrArr[i], gp_fit))\n\u001b[0m",
      "\u001b[0;32m~/anaconda3/envs/py37/lib/python3.7/site-packages/scipy/optimize/_minimize.py\u001b[0m in \u001b[0;36mminimize\u001b[0;34m(fun, x0, args, method, jac, hess, hessp, bounds, constraints, tol, callback, options)\u001b[0m\n\u001b[1;32m    608\u001b[0m     \u001b[0;32melif\u001b[0m \u001b[0mmeth\u001b[0m \u001b[0;34m==\u001b[0m \u001b[0;34m'l-bfgs-b'\u001b[0m\u001b[0;34m:\u001b[0m\u001b[0;34m\u001b[0m\u001b[0;34m\u001b[0m\u001b[0m\n\u001b[1;32m    609\u001b[0m         return _minimize_lbfgsb(fun, x0, args, jac, bounds,\n\u001b[0;32m--> 610\u001b[0;31m                                 callback=callback, **options)\n\u001b[0m\u001b[1;32m    611\u001b[0m     \u001b[0;32melif\u001b[0m \u001b[0mmeth\u001b[0m \u001b[0;34m==\u001b[0m \u001b[0;34m'tnc'\u001b[0m\u001b[0;34m:\u001b[0m\u001b[0;34m\u001b[0m\u001b[0;34m\u001b[0m\u001b[0m\n\u001b[1;32m    612\u001b[0m         return _minimize_tnc(fun, x0, args, jac, bounds, callback=callback,\n",
      "\u001b[0;32m~/anaconda3/envs/py37/lib/python3.7/site-packages/scipy/optimize/lbfgsb.py\u001b[0m in \u001b[0;36m_minimize_lbfgsb\u001b[0;34m(fun, x0, args, jac, bounds, disp, maxcor, ftol, gtol, eps, maxfun, maxiter, iprint, callback, maxls, **unknown_options)\u001b[0m\n\u001b[1;32m    343\u001b[0m             \u001b[0;31m# until the completion of the current minimization iteration.\u001b[0m\u001b[0;34m\u001b[0m\u001b[0;34m\u001b[0m\u001b[0;34m\u001b[0m\u001b[0m\n\u001b[1;32m    344\u001b[0m             \u001b[0;31m# Overwrite f and g:\u001b[0m\u001b[0;34m\u001b[0m\u001b[0;34m\u001b[0m\u001b[0;34m\u001b[0m\u001b[0m\n\u001b[0;32m--> 345\u001b[0;31m             \u001b[0mf\u001b[0m\u001b[0;34m,\u001b[0m \u001b[0mg\u001b[0m \u001b[0;34m=\u001b[0m \u001b[0mfunc_and_grad\u001b[0m\u001b[0;34m(\u001b[0m\u001b[0mx\u001b[0m\u001b[0;34m)\u001b[0m\u001b[0;34m\u001b[0m\u001b[0;34m\u001b[0m\u001b[0m\n\u001b[0m\u001b[1;32m    346\u001b[0m         \u001b[0;32melif\u001b[0m \u001b[0mtask_str\u001b[0m\u001b[0;34m.\u001b[0m\u001b[0mstartswith\u001b[0m\u001b[0;34m(\u001b[0m\u001b[0;34mb'NEW_X'\u001b[0m\u001b[0;34m)\u001b[0m\u001b[0;34m:\u001b[0m\u001b[0;34m\u001b[0m\u001b[0;34m\u001b[0m\u001b[0m\n\u001b[1;32m    347\u001b[0m             \u001b[0;31m# new iteration\u001b[0m\u001b[0;34m\u001b[0m\u001b[0;34m\u001b[0m\u001b[0;34m\u001b[0m\u001b[0m\n",
      "\u001b[0;32m~/anaconda3/envs/py37/lib/python3.7/site-packages/scipy/optimize/lbfgsb.py\u001b[0m in \u001b[0;36mfunc_and_grad\u001b[0;34m(x)\u001b[0m\n\u001b[1;32m    288\u001b[0m     \u001b[0;32mif\u001b[0m \u001b[0mjac\u001b[0m \u001b[0;32mis\u001b[0m \u001b[0;32mNone\u001b[0m\u001b[0;34m:\u001b[0m\u001b[0;34m\u001b[0m\u001b[0;34m\u001b[0m\u001b[0m\n\u001b[1;32m    289\u001b[0m         \u001b[0;32mdef\u001b[0m \u001b[0mfunc_and_grad\u001b[0m\u001b[0;34m(\u001b[0m\u001b[0mx\u001b[0m\u001b[0;34m)\u001b[0m\u001b[0;34m:\u001b[0m\u001b[0;34m\u001b[0m\u001b[0;34m\u001b[0m\u001b[0m\n\u001b[0;32m--> 290\u001b[0;31m             \u001b[0mf\u001b[0m \u001b[0;34m=\u001b[0m \u001b[0mfun\u001b[0m\u001b[0;34m(\u001b[0m\u001b[0mx\u001b[0m\u001b[0;34m,\u001b[0m \u001b[0;34m*\u001b[0m\u001b[0margs\u001b[0m\u001b[0;34m)\u001b[0m\u001b[0;34m\u001b[0m\u001b[0;34m\u001b[0m\u001b[0m\n\u001b[0m\u001b[1;32m    291\u001b[0m             \u001b[0mg\u001b[0m \u001b[0;34m=\u001b[0m \u001b[0m_approx_fprime_helper\u001b[0m\u001b[0;34m(\u001b[0m\u001b[0mx\u001b[0m\u001b[0;34m,\u001b[0m \u001b[0mfun\u001b[0m\u001b[0;34m,\u001b[0m \u001b[0mepsilon\u001b[0m\u001b[0;34m,\u001b[0m \u001b[0margs\u001b[0m\u001b[0;34m=\u001b[0m\u001b[0margs\u001b[0m\u001b[0;34m,\u001b[0m \u001b[0mf0\u001b[0m\u001b[0;34m=\u001b[0m\u001b[0mf\u001b[0m\u001b[0;34m)\u001b[0m\u001b[0;34m\u001b[0m\u001b[0;34m\u001b[0m\u001b[0m\n\u001b[1;32m    292\u001b[0m             \u001b[0;32mreturn\u001b[0m \u001b[0mf\u001b[0m\u001b[0;34m,\u001b[0m \u001b[0mg\u001b[0m\u001b[0;34m\u001b[0m\u001b[0;34m\u001b[0m\u001b[0m\n",
      "\u001b[0;32m~/anaconda3/envs/py37/lib/python3.7/site-packages/scipy/optimize/optimize.py\u001b[0m in \u001b[0;36mfunction_wrapper\u001b[0;34m(*wrapper_args)\u001b[0m\n\u001b[1;32m    325\u001b[0m     \u001b[0;32mdef\u001b[0m \u001b[0mfunction_wrapper\u001b[0m\u001b[0;34m(\u001b[0m\u001b[0;34m*\u001b[0m\u001b[0mwrapper_args\u001b[0m\u001b[0;34m)\u001b[0m\u001b[0;34m:\u001b[0m\u001b[0;34m\u001b[0m\u001b[0;34m\u001b[0m\u001b[0m\n\u001b[1;32m    326\u001b[0m         \u001b[0mncalls\u001b[0m\u001b[0;34m[\u001b[0m\u001b[0;36m0\u001b[0m\u001b[0;34m]\u001b[0m \u001b[0;34m+=\u001b[0m \u001b[0;36m1\u001b[0m\u001b[0;34m\u001b[0m\u001b[0;34m\u001b[0m\u001b[0m\n\u001b[0;32m--> 327\u001b[0;31m         \u001b[0;32mreturn\u001b[0m \u001b[0mfunction\u001b[0m\u001b[0;34m(\u001b[0m\u001b[0;34m*\u001b[0m\u001b[0;34m(\u001b[0m\u001b[0mwrapper_args\u001b[0m \u001b[0;34m+\u001b[0m \u001b[0margs\u001b[0m\u001b[0;34m)\u001b[0m\u001b[0;34m)\u001b[0m\u001b[0;34m\u001b[0m\u001b[0;34m\u001b[0m\u001b[0m\n\u001b[0m\u001b[1;32m    328\u001b[0m \u001b[0;34m\u001b[0m\u001b[0m\n\u001b[1;32m    329\u001b[0m     \u001b[0;32mreturn\u001b[0m \u001b[0mncalls\u001b[0m\u001b[0;34m,\u001b[0m \u001b[0mfunction_wrapper\u001b[0m\u001b[0;34m\u001b[0m\u001b[0;34m\u001b[0m\u001b[0m\n",
      "\u001b[0;32m<ipython-input-25-975227f1048b>\u001b[0m in \u001b[0;36mneg_log_like_1\u001b[0;34m(params, y, yerr, gp)\u001b[0m\n\u001b[1;32m     25\u001b[0m         \u001b[0mprint\u001b[0m\u001b[0;34m(\u001b[0m\u001b[0me\u001b[0m\u001b[0;34m)\u001b[0m\u001b[0;34m\u001b[0m\u001b[0;34m\u001b[0m\u001b[0m\n\u001b[1;32m     26\u001b[0m \u001b[0;31m#         return -np.inf\u001b[0m\u001b[0;34m\u001b[0m\u001b[0;34m\u001b[0m\u001b[0;34m\u001b[0m\u001b[0m\n\u001b[0;32m---> 27\u001b[0;31m     \u001b[0;32mreturn\u001b[0m \u001b[0mneg_ll\u001b[0m\u001b[0;34m\u001b[0m\u001b[0;34m\u001b[0m\u001b[0m\n\u001b[0m\u001b[1;32m     28\u001b[0m \u001b[0;34m\u001b[0m\u001b[0m\n\u001b[1;32m     29\u001b[0m \u001b[0;32mdef\u001b[0m \u001b[0mneg_log_like_2\u001b[0m\u001b[0;34m(\u001b[0m\u001b[0mparams\u001b[0m\u001b[0;34m,\u001b[0m \u001b[0my\u001b[0m\u001b[0;34m,\u001b[0m \u001b[0myerr\u001b[0m\u001b[0;34m,\u001b[0m \u001b[0mgp\u001b[0m\u001b[0;34m)\u001b[0m\u001b[0;34m:\u001b[0m\u001b[0;34m\u001b[0m\u001b[0;34m\u001b[0m\u001b[0m\n",
      "\u001b[0;31mUnboundLocalError\u001b[0m: local variable 'neg_ll' referenced before assignment"
     ]
    }
   ],
   "source": [
    "## start fitting\n",
    "for i in range(50):\n",
    "\n",
    "    # initialize parameter in the possible range\n",
    "    a1 = np.exp(np.random.uniform(-3, 1, 1)[0])\n",
    "    a2 = np.exp(np.random.uniform(-6, 1, 1)[0])\n",
    "    b0 = np.exp(np.random.uniform(-10, -5, 1)[0])\n",
    "    b1 = np.exp(np.random.uniform(-10, -5, 1)[0])\n",
    "\n",
    "    kernel_fit = DHO_term(np.log(a1), np.log(a2), np.log(b0), np.log(b1))\n",
    "    gp_fit = GP(kernel_fit)\n",
    "    gp_fit.compute(tArr[i], yerrArr[i])\n",
    "\n",
    "    initial_params = gp_fit.get_parameter_vector()\n",
    "    bounds = gp.get_parameter_bounds()\n",
    "\n",
    "    ret = minimize(neg_log_like_1, initial_params, method=\"L-BFGS-B\", bounds=bounds, \\\n",
    "                 args=(yArr[i], yerrArr[i], gp_fit))"
   ]
  },
  {
   "cell_type": "markdown",
   "metadata": {},
   "source": [
    "<span style='color:red'>**Remark:**</span> It is clear that the `RuntimeWarning` is caused by overly large/small numbers suggested by the optimizing alogorithms. There are two solutions, one is adding a clause the in the likelihood function to catch overflow/underflow and return -inf; another way to handle this is to specify a boundary in the optimization algorithms for making proposals, which would be highly algorithm dependent.  \n",
    "\n",
    "#### Next, Let's run the above code again with the frist solution"
   ]
  },
  {
   "cell_type": "code",
   "execution_count": 29,
   "metadata": {},
   "outputs": [],
   "source": [
    "## start fitting\n",
    "for j in range(100):\n",
    "    for i in range(50):\n",
    "\n",
    "        # initialize parameter in the possible range\n",
    "        a1 = np.exp(np.random.uniform(-3, 1, 1)[0])\n",
    "        a2 = np.exp(np.random.uniform(-6, 1, 1)[0])\n",
    "        b0 = np.exp(np.random.uniform(-10, -5, 1)[0])\n",
    "        b1 = np.exp(np.random.uniform(-10, -5, 1)[0])\n",
    "\n",
    "        kernel_fit = DHO_term(np.log(a1), np.log(a2), np.log(b0), np.log(b1))\n",
    "        gp_fit = GP(kernel_fit)\n",
    "        gp_fit.compute(tArr[i], yerrArr[i])\n",
    "\n",
    "        initial_params = gp_fit.get_parameter_vector()\n",
    "        bounds = gp.get_parameter_bounds()\n",
    "\n",
    "        ret = minimize(neg_log_like_2, initial_params, method=\"L-BFGS-B\", bounds=bounds, \\\n",
    "                     args=(yArr[i], yerrArr[i], gp_fit))"
   ]
  },
  {
   "cell_type": "markdown",
   "metadata": {},
   "source": [
    "<span style='color:red'>**Conclusion:**</span> After running the above loop for 100 times, no additional warning is raised, it seems like the suggested fix worked. \n",
    "<span style='color:red'>**Note:**</span> It appears that the `basin-hopping` opitimizer worker better (giving solutions with smaller errors with the fix, but will require longer runs"
   ]
  },
  {
   "cell_type": "code",
   "execution_count": null,
   "metadata": {},
   "outputs": [],
   "source": []
  }
 ],
 "metadata": {
  "kernelspec": {
   "display_name": "Python 3",
   "language": "python",
   "name": "python3"
  },
  "language_info": {
   "codemirror_mode": {
    "name": "ipython",
    "version": 3
   },
   "file_extension": ".py",
   "mimetype": "text/x-python",
   "name": "python",
   "nbconvert_exporter": "python",
   "pygments_lexer": "ipython3",
   "version": "3.7.7"
  }
 },
 "nbformat": 4,
 "nbformat_minor": 4
}
