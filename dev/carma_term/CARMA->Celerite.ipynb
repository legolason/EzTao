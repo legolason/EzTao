{
 "cells": [
  {
   "cell_type": "markdown",
   "metadata": {},
   "source": [
    "### Investigate the convertion from CARMA params to Celerite terms\n",
    "\n",
    "<br>**Author(s):** Weixiang Yu\n",
    "<br>**Last run:** 06-17-20\n",
    "<br>**Short description:** Two tasks: 1. Examine the built in CARMA solver of Celertie; 2. If not working, develope a new convertion fuction."
   ]
  },
  {
   "cell_type": "code",
   "execution_count": 1,
   "metadata": {},
   "outputs": [],
   "source": [
    "# import basic packages\n",
    "import numpy as np\n",
    "import pandas as pd\n",
    "import matplotlib.pyplot as plt\n",
    "import matplotlib as mpl\n",
    "import os, sys\n",
    "\n",
    "# see if local stores mpl style, else use from src\n",
    "try:\n",
    "    plt.style.use('yu_basic')\n",
    "except:\n",
    "    mpl.rc_file('../../src/vis/mpl/yu_basic.rc')\n",
    "\n",
    "pd.set_option('display.max_columns', 999)\n",
    "%matplotlib inline"
   ]
  },
  {
   "cell_type": "code",
   "execution_count": 2,
   "metadata": {},
   "outputs": [],
   "source": [
    "import celerite\n",
    "from celerite import GP, terms\n",
    "from celerite.solver import get_kernel_value, CARMASolver"
   ]
  },
  {
   "cell_type": "markdown",
   "metadata": {},
   "source": [
    "### 1. Test Celerite CARMA Solver\n",
    "The first step is to see whether the built in CARMASolver give the correct convertion by examing the the ACF of a input CARMA model. Given an overdamped 2nd order CARMA model (two real roots), we know the ACF pairs must have opposite signs. And thus the corresponding Celerite real terms must also have opposite signs. \n",
    "<br> Here we are using a CARMA(2,0) model, with AR parameters: [2, 0.8] and $\\sigma$ = 1"
   ]
  },
  {
   "cell_type": "code",
   "execution_count": 3,
   "metadata": {},
   "outputs": [
    {
     "name": "stdout",
     "output_type": "stream",
     "text": [
      "AR roots: [-1.4472136 -0.5527864]\n"
     ]
    }
   ],
   "source": [
    "# compute the ACF of the input model\n",
    "arroots = np.roots([1, 2, 0.8])\n",
    "sigma = 1\n",
    "print (f'AR roots: {arroots}')"
   ]
  },
  {
   "cell_type": "code",
   "execution_count": 4,
   "metadata": {},
   "outputs": [
    {
     "name": "stdout",
     "output_type": "stream",
     "text": [
      "ACF for root 1: -0.19313562148434218\n",
      "ACF for root 2: 0.5056356214843422\n"
     ]
    }
   ],
   "source": [
    "r1, r2 = arroots\n",
    "acf_1 = sigma**2/(-2*r1*(r2-r1)*(r2+r1))\n",
    "acf_2 = sigma**2/(-2*r2*(r1-r2)*(r1+r2))\n",
    "print(f'ACF for root 1: {acf_1}')\n",
    "print(f'ACF for root 2: {acf_2}')"
   ]
  },
  {
   "cell_type": "markdown",
   "metadata": {},
   "source": [
    "#### Now see what Celerite returns"
   ]
  },
  {
   "cell_type": "code",
   "execution_count": 55,
   "metadata": {},
   "outputs": [
    {
     "data": {
      "text/plain": [
       "(array([ 0.50563562, -0.19313562]),\n",
       " array([0.5527864, 1.4472136]),\n",
       " array([], dtype=float64),\n",
       " array([], dtype=float64),\n",
       " array([], dtype=float64),\n",
       " array([], dtype=float64))"
      ]
     },
     "execution_count": 55,
     "metadata": {},
     "output_type": "execute_result"
    }
   ],
   "source": [
    "carma_solver = CARMASolver(0, np.log(np.array([0.8, 2])), np.array([]))\n",
    "carma_solver.get_celerite_coeffs()"
   ]
  },
  {
   "cell_type": "markdown",
   "metadata": {},
   "source": [
    "<span style='color:red'>\n",
    "The built in CARMA solver gives correct `Celerite` terms with two catches: 1. Both AR and MA parameters must be provided in the log scale. 2. The order of AR params must follow the index in the Kelly et al. 2014 paper. \n",
    "\n",
    "<br>! See section 2.3 for an update on more complex models. (Celerite CARMA solver has bugs)\n",
    "</span>"
   ]
  },
  {
   "cell_type": "markdown",
   "metadata": {},
   "source": [
    "### 2. Hard Coded CARMA ACF + More tests for Celerite CARMA solver"
   ]
  },
  {
   "cell_type": "code",
   "execution_count": 6,
   "metadata": {},
   "outputs": [],
   "source": [
    "# construct/test using CARMA(2,1), define in Kasliwal's notation and add to Kelly's\n",
    "arparam = np.array([2, 0.8])\n",
    "maparam = np.array([1])\n",
    "\n",
    "sigma = maparam[0]\n",
    "n_maparam = np.array([x/sigma for x in maparam])"
   ]
  },
  {
   "cell_type": "code",
   "execution_count": 7,
   "metadata": {},
   "outputs": [
    {
     "name": "stdout",
     "output_type": "stream",
     "text": [
      "AR roots: [-1.4472136 -0.5527864]\n",
      "MA roots: []\n"
     ]
    }
   ],
   "source": [
    "# get roots\n",
    "arroots = np.roots(np.append([1], arparam))\n",
    "maroots = np.roots(n_maparam[::-1])\n",
    "print(f'AR roots: {arroots}')\n",
    "print(f'MA roots: {maroots}')"
   ]
  },
  {
   "cell_type": "code",
   "execution_count": 8,
   "metadata": {},
   "outputs": [],
   "source": [
    "# variable for order\n",
    "p = len(arparam)\n",
    "q = len(maparam) -1"
   ]
  },
  {
   "cell_type": "markdown",
   "metadata": {},
   "source": [
    "#### 2.1 Vectorized CARMA ACF"
   ]
  },
  {
   "cell_type": "code",
   "execution_count": 9,
   "metadata": {},
   "outputs": [
    {
     "name": "stdout",
     "output_type": "stream",
     "text": [
      "[-0.5527864 -1.4472136]\n"
     ]
    }
   ],
   "source": [
    "# get acf in a vectorized way\n",
    "num_0 = 0\n",
    "num_1 = 0\n",
    "denum = -2*arroots.real\n",
    "\n",
    "for k in range(q+1):\n",
    "    num_0 += maparam[k]*np.power(arroots, k)\n",
    "    num_1 += maparam[k]*np.power(-arroots, k)\n",
    "\n",
    "for j in range(1, p):\n",
    "    root_idx = np.arange(p)\n",
    "    root_k = arroots[np.roll(root_idx, j)]\n",
    "    print(root_k)\n",
    "    denum *= (root_k - arroots)*(np.conj(root_k) + arroots)"
   ]
  },
  {
   "cell_type": "code",
   "execution_count": 10,
   "metadata": {},
   "outputs": [
    {
     "name": "stdout",
     "output_type": "stream",
     "text": [
      "ACF for CARMA(2,0): [-0.19313562  0.50563562]\n"
     ]
    }
   ],
   "source": [
    "print(f'ACF for CARMA(2,0): {num_0*num_1/denum}')"
   ]
  },
  {
   "cell_type": "markdown",
   "metadata": {},
   "source": [
    "#### 2.2 Put ACF into a function"
   ]
  },
  {
   "cell_type": "code",
   "execution_count": 36,
   "metadata": {},
   "outputs": [],
   "source": [
    "def acf(arparam, maparam):\n",
    "    p = len(arparam)\n",
    "    q = len(maparam)-1    \n",
    "    sigma = maparam[0]\n",
    "    \n",
    "    # MA param into Kell's notation\n",
    "    arparam = np.array(arparam)\n",
    "    maparam = np.array([x/sigma for x in maparam])\n",
    "    \n",
    "    # get roots\n",
    "    arroots = np.roots(np.append([1], arparam))\n",
    "#     maroots = np.roots(n_maparam[::-1])\n",
    "    \n",
    "    # init acf product terms\n",
    "    num_left = 0\n",
    "    num_right = 0\n",
    "    denom = -2*arroots.real + np.zeros_like(arroots)*1j \n",
    "    \n",
    "    for k in range(q+1):\n",
    "        num_left += maparam[k]*np.power(arroots, k)\n",
    "        num_right += maparam[k]*np.power(-arroots, k)\n",
    "\n",
    "    for j in range(1, p):\n",
    "        root_idx = np.arange(p)\n",
    "        root_k = arroots[np.roll(root_idx, j)]\n",
    "        denom *= (root_k - arroots)*(np.conj(root_k) + arroots)\n",
    "\n",
    "    return sigma**2*num_left*num_right/denom\n",
    "\n",
    "def acf20(arparam, maparam):\n",
    "    \n",
    "    assert len(arparam) == 2\n",
    "    assert len(maparam) == 1\n",
    "    \n",
    "    sigma = maparam[0]\n",
    "    maparam = np.array([x/sigma for x in maparam])\n",
    "    r_1, r_2 = np.roots(np.append([1], arparam))\n",
    "    \n",
    "    acf_1 = sigma**2/(-2*r_1.real*(r_2-r_1)*(np.conj(r_2)+r_1))\n",
    "    acf_2 = sigma**2/(-2*r_2.real*(r_1-r_2)*(np.conj(r_1)+r_2))\n",
    "    \n",
    "    return np.array([acf_1, acf_2])\n",
    "\n",
    "def acf21(arparam, maparam):\n",
    "    \n",
    "    assert len(arparam) == 2\n",
    "    assert len(maparam) == 2\n",
    "    \n",
    "    sigma = maparam[0]\n",
    "    maparam = np.array([x/sigma for x in maparam])\n",
    "    r1, r2 = np.roots(np.append([1], arparam))\n",
    "    \n",
    "    acf_1 = sigma**2*(1-maparam[1]**2*r1**2)/(-2*r1.real*(r2-r1)*(np.conj(r2)+r1))\n",
    "    acf_2 = sigma**2*(1-maparam[1]**2*r2**2)/(-2*r2.real*(r1-r2)*(np.conj(r1)+r2))\n",
    "    \n",
    "    return np.array([acf_1, acf_2])\n",
    "\n",
    "def acf30(arparam, maparam):\n",
    "    \n",
    "    assert len(arparam) == 3\n",
    "    assert len(maparam) == 1\n",
    "    \n",
    "    sigma = maparam[0]\n",
    "    maparam = np.array([x/sigma for x in maparam])\n",
    "    r1, r2, r3 = np.roots(np.append([1], arparam))\n",
    "    \n",
    "    acf_1 = sigma**2/(-2*r1.real*(r2-r1)*(np.conj(r2)+r1)*(r3-r1)*(np.conj(r3)+r1))\n",
    "    acf_2 = sigma**2/(-2*r2.real*(r1-r2)*(np.conj(r1)+r2)*(r3-r2)*(np.conj(r3)+r2))\n",
    "    acf_3 = sigma**2/(-2*r3.real*(r1-r3)*(np.conj(r1)+r3)*(r2-r3)*(np.conj(r2)+r3))\n",
    "    \n",
    "    return np.array([acf_1, acf_2, acf_3])\n",
    "\n",
    "def Kali2Pack(arparam, maparam):\n",
    "\n",
    "    sigma = maparam[0]\n",
    "    arparam = arparam[::-1]\n",
    "    maparam = [x/sigma for x in maparam[1:]]\n",
    "\n",
    "    return sigma, arparam, maparam"
   ]
  },
  {
   "cell_type": "markdown",
   "metadata": {},
   "source": [
    "#### 2.3 Construct more test examples"
   ]
  },
  {
   "cell_type": "markdown",
   "metadata": {},
   "source": [
    "**CARMA(2,0)**"
   ]
  },
  {
   "cell_type": "code",
   "execution_count": 95,
   "metadata": {},
   "outputs": [],
   "source": [
    "# CARMA (2,0)\n",
    "ar1 = np.array([2, 1.1])\n",
    "ma1 = np.array([0.5])\n",
    "\n",
    "ar2 = np.array([2, 0.8])\n",
    "ma2 = np.array([2])"
   ]
  },
  {
   "cell_type": "code",
   "execution_count": 96,
   "metadata": {},
   "outputs": [
    {
     "name": "stdout",
     "output_type": "stream",
     "text": [
      "Complex CARMA(2,0)\n",
      "\n",
      "Roots: [-1.+0.31622777j -1.-0.31622777j]\n",
      "Hard Code ACF: [0.02840909-0.08983743j 0.02840909+0.08983743j]\n",
      "Vector ACF: [0.02840909-0.08983743j 0.02840909+0.08983743j]\n",
      "\n",
      "Terms by CARMA Solver:\n"
     ]
    },
    {
     "data": {
      "text/plain": [
       "(array([], dtype=float64),\n",
       " array([], dtype=float64),\n",
       " array([0.05681818]),\n",
       " array([-0.17967487]),\n",
       " array([1.]),\n",
       " array([-0.31622777]))"
      ]
     },
     "execution_count": 96,
     "metadata": {},
     "output_type": "execute_result"
    }
   ],
   "source": [
    "print('Complex CARMA(2,0)\\n')\n",
    "print(f'Roots: {np.roots(np.append([1], ar1))}')\n",
    "print(f'Hard Code ACF: {acf20(ar1, ma1)}')\n",
    "print(f'Vector ACF: {acf(ar1, ma1)}')\n",
    "\n",
    "# check terms given by CARMA solver\n",
    "sigma, arpack, mapack = Kali2Pack(ar1, ma1)\n",
    "\n",
    "print('\\nTerms by CARMA Solver:')\n",
    "carma_solver = CARMASolver(np.log(sigma), np.log(arpack), np.log(mapack))\n",
    "carma_solver.get_celerite_coeffs()"
   ]
  },
  {
   "cell_type": "code",
   "execution_count": 97,
   "metadata": {},
   "outputs": [
    {
     "name": "stdout",
     "output_type": "stream",
     "text": [
      "Real CARMA(2,0)\n",
      "\n",
      "Roots: [-1.4472136 -0.5527864]\n",
      "Hard Code ACF: [-0.77254249  2.02254249]\n",
      "Vector ACF: [-0.77254249-0.j  2.02254249+0.j]\n",
      "\n",
      "Terms by CARMA Solver:\n"
     ]
    },
    {
     "data": {
      "text/plain": [
       "(array([ 2.02254249, -0.77254249]),\n",
       " array([0.5527864, 1.4472136]),\n",
       " array([], dtype=float64),\n",
       " array([], dtype=float64),\n",
       " array([], dtype=float64),\n",
       " array([], dtype=float64))"
      ]
     },
     "execution_count": 97,
     "metadata": {},
     "output_type": "execute_result"
    }
   ],
   "source": [
    "print('Real CARMA(2,0)\\n')\n",
    "print(f'Roots: {np.roots(np.append([1], ar2))}')\n",
    "print(f'Hard Code ACF: {acf20(ar2, ma2)}')\n",
    "print(f'Vector ACF: {acf(ar2, ma2)}')\n",
    "\n",
    "# check terms given by CARMA solver\n",
    "sigma, arpack, mapack = Kali2Pack(ar2, ma2)\n",
    "\n",
    "print('\\nTerms by CARMA Solver:')\n",
    "carma_solver = CARMASolver(np.log(sigma), np.log(arpack), np.log(mapack))\n",
    "carma_solver.get_celerite_coeffs()"
   ]
  },
  {
   "cell_type": "markdown",
   "metadata": {},
   "source": [
    "**CARMA(2,1)**"
   ]
  },
  {
   "cell_type": "code",
   "execution_count": 128,
   "metadata": {},
   "outputs": [],
   "source": [
    "ar3 = np.array([2, 0.8])\n",
    "ma3 = np.array([1, 0.5])\n",
    "\n",
    "ar4 = np.array([2, 1.2])\n",
    "ma4 = np.array([1, 2])"
   ]
  },
  {
   "cell_type": "code",
   "execution_count": 138,
   "metadata": {},
   "outputs": [
    {
     "name": "stdout",
     "output_type": "stream",
     "text": [
      "Real CARMA(2,1)\n",
      "\n",
      "Roots: [-1.4472136 -0.5527864]\n",
      "Hard Code ACF: [-0.0920085  0.4670085]\n",
      "Vector ACF: [-0.0920085-0.j  0.4670085+0.j]\n",
      "\n",
      "Terms by CARMA Solver:\n"
     ]
    },
    {
     "data": {
      "text/plain": [
       "(array([-0.11239837,  1.42489837]),\n",
       " array([0.5527864, 1.4472136]),\n",
       " array([], dtype=float64),\n",
       " array([], dtype=float64),\n",
       " array([], dtype=float64),\n",
       " array([], dtype=float64))"
      ]
     },
     "execution_count": 138,
     "metadata": {},
     "output_type": "execute_result"
    }
   ],
   "source": [
    "print('Real CARMA(2,1)\\n')\n",
    "print(f'Roots: {np.roots(np.append([1], ar3))}')\n",
    "print(f'Hard Code ACF: {acf21(ar3, ma3)}')\n",
    "print(f'Vector ACF: {acf(ar3, ma3)}')\n",
    "\n",
    "# check terms given by CARMA solver\n",
    "sigma, arpack, mapack = Kali2Pack(ar3, ma3)\n",
    "\n",
    "print('\\nTerms by CARMA Solver:')\n",
    "carma_solver = CARMASolver(np.log(sigma), np.log(arpack), np.log(mapack))\n",
    "carma_solver.get_celerite_coeffs()"
   ]
  },
  {
   "cell_type": "code",
   "execution_count": 100,
   "metadata": {},
   "outputs": [
    {
     "name": "stdout",
     "output_type": "stream",
     "text": [
      "Complex CARMA(2,1)\n",
      "\n",
      "Roots: [-1.+0.4472136j -1.-0.4472136j]\n",
      "Hard Code ACF: [0.60416667+0.88511024j 0.60416667-0.88511024j]\n",
      "Vector ACF: [0.60416667+0.88511024j 0.60416667-0.88511024j]\n",
      "\n",
      "Terms by CARMA Solver:\n"
     ]
    },
    {
     "data": {
      "text/plain": [
       "(array([], dtype=float64),\n",
       " array([], dtype=float64),\n",
       " array([0.27083333]),\n",
       " array([-0.32609325]),\n",
       " array([1.]),\n",
       " array([-0.4472136]))"
      ]
     },
     "execution_count": 100,
     "metadata": {},
     "output_type": "execute_result"
    }
   ],
   "source": [
    "print('Complex CARMA(2,1)\\n')\n",
    "print(f'Roots: {np.roots(np.append([1], ar4))}')\n",
    "print(f'Hard Code ACF: {acf21(ar4, ma4)}')\n",
    "print(f'Vector ACF: {acf(ar4, ma4)}')\n",
    "\n",
    "# check terms given by CARMA solver\n",
    "sigma, arpack, mapack = Kali2Pack(ar4, ma4)\n",
    "\n",
    "print('\\nTerms by CARMA Solver:')\n",
    "carma_solver = CARMASolver(np.log(sigma), np.log(arpack), np.log(mapack))\n",
    "carma_solver.get_celerite_coeffs()"
   ]
  },
  {
   "cell_type": "markdown",
   "metadata": {},
   "source": [
    "<span style='color:red'>\n",
    "The CARMA(2,1) test exposes a possible bug in the CARMA solver where it takes the log of negative numbers\n",
    "</span>"
   ]
  },
  {
   "cell_type": "markdown",
   "metadata": {},
   "source": [
    "**CARMA(3,0)**"
   ]
  },
  {
   "cell_type": "code",
   "execution_count": 176,
   "metadata": {},
   "outputs": [],
   "source": [
    "ar5 = np.array([3, 2.8, 0.8])\n",
    "ma5 = np.array([1])\n",
    "\n",
    "ar6 = np.array([3, 3.2, 1.2])\n",
    "ma6 = np.array([1])"
   ]
  },
  {
   "cell_type": "code",
   "execution_count": 181,
   "metadata": {},
   "outputs": [
    {
     "name": "stdout",
     "output_type": "stream",
     "text": [
      "Real CARMA(3,0)\n",
      "\n",
      "Roots: [-1.4472136 -1.        -0.5527864]\n",
      "Hard Code ACF: [ 0.17647188 -0.65789474  0.72813339]\n",
      "Vector ACF: [ 0.17647188+0.j -0.65789474-0.j  0.72813339+0.j]\n",
      "\n",
      "Terms by CARMA Solver:\n"
     ]
    },
    {
     "data": {
      "text/plain": [
       "(array([ 0.0288546 , -0.01168427,  0.00654108]),\n",
       " array([0.32296704, 2.47703296, 3.        ]),\n",
       " array([], dtype=float64),\n",
       " array([], dtype=float64),\n",
       " array([], dtype=float64),\n",
       " array([], dtype=float64))"
      ]
     },
     "execution_count": 181,
     "metadata": {},
     "output_type": "execute_result"
    }
   ],
   "source": [
    "print('Real CARMA(3,0)\\n')\n",
    "print(f'Roots: {np.roots(np.append([1], ar5))}')\n",
    "print(f'Hard Code ACF: {acf30(ar5, ma5)}')\n",
    "print(f'Vector ACF: {acf(ar5, ma5)}')\n",
    "\n",
    "# check terms given by CARMA solver\n",
    "sigma, arpack, mapack = Kali2Pack(ar5, ma5)\n",
    "\n",
    "print('\\nTerms by CARMA Solver:')\n",
    "carma_solver = CARMASolver(np.log(sigma), np.log(arpack), np.log(mapack))\n",
    "carma_solver.get_celerite_coeffs()"
   ]
  },
  {
   "cell_type": "code",
   "execution_count": 185,
   "metadata": {},
   "outputs": [
    {
     "name": "stdout",
     "output_type": "stream",
     "text": [
      "Complex CARMA(3,0)\n",
      "\n",
      "Roots: [-1.+0.4472136j -1.-0.4472136j -1.+0.j       ]\n",
      "Hard Code ACF: [-0.22321429-1.66374105e-01j -0.22321429+1.66374105e-01j\n",
      "  0.5952381 -1.96680666e-17j]\n",
      "Vector ACF: [-0.22321429-0.16637411j -0.22321429+0.16637411j  0.5952381 +0.j        ]\n",
      "\n",
      "Terms by CARMA Solver:\n"
     ]
    },
    {
     "data": {
      "text/plain": [
       "(array([ 0.01752493, -0.01796334,  0.01402918]),\n",
       " array([0.43380962, 2.76619038, 3.        ]),\n",
       " array([], dtype=float64),\n",
       " array([], dtype=float64),\n",
       " array([], dtype=float64),\n",
       " array([], dtype=float64))"
      ]
     },
     "execution_count": 185,
     "metadata": {},
     "output_type": "execute_result"
    }
   ],
   "source": [
    "print('Complex CARMA(3,0)\\n')\n",
    "print(f'Roots: {np.roots(np.append([1], ar6))}')\n",
    "print(f'Hard Code ACF: {acf30(ar6, ma6)}')\n",
    "print(f'Vector ACF: {acf(ar6, ma6)}')\n",
    "\n",
    "# check terms given by CARMA solver\n",
    "sigma, arpack, mapack = Kali2Pack(ar6, ma6)\n",
    "\n",
    "print('\\nTerms by CARMA Solver:')\n",
    "carma_solver = CARMASolver(np.log(sigma), np.log(arpack), np.log(mapack))\n",
    "carma_solver.get_celerite_coeffs()"
   ]
  },
  {
   "cell_type": "markdown",
   "metadata": {},
   "source": [
    "<span style='color:red'>\n",
    "The CARMA(3,0) test exposess more possible issues in the CARMA solver.\n",
    "</span>"
   ]
  },
  {
   "cell_type": "markdown",
   "metadata": {},
   "source": [
    "#### 2.4 Hard Code Celerite CARMAsolver in Python and compare with built-in"
   ]
  },
  {
   "cell_type": "code",
   "execution_count": 170,
   "metadata": {
    "jupyter": {
     "source_hidden": true
    }
   },
   "outputs": [
    {
     "name": "stdout",
     "output_type": "stream",
     "text": [
      "Hand Code CARMA Solver for CARMA(2,1)\n",
      "a_1: -0.09200849718747373\n",
      "c_1: 1.4472135954999579\n",
      "a_2: 0.4670084971874737\n",
      "c_2: 0.5527864045000421\n",
      "\n",
      "Solution provided by Celerite CARMA Solver\n"
     ]
    },
    {
     "data": {
      "text/plain": [
       "(array([-0.11239837,  1.42489837]),\n",
       " array([0.5527864, 1.4472136]),\n",
       " array([], dtype=float64),\n",
       " array([], dtype=float64),\n",
       " array([], dtype=float64),\n",
       " array([], dtype=float64))"
      ]
     },
     "execution_count": 170,
     "metadata": {},
     "output_type": "execute_result"
    }
   ],
   "source": [
    "from scipy.special import logsumexp\n",
    "\n",
    "# define CARMA parameters following carma_pack notation\n",
    "sigma = 1\n",
    "arpar = np.array([0.8, 2]) # low to high order\n",
    "mapar = np.array([0.5])\n",
    "\n",
    "arroots = np.roots(np.append([1], arpar[::-1]))\n",
    "r1 = np.complex(arroots[0])\n",
    "r2 = np.complex(arroots[1])\n",
    "\n",
    "# let's only looking at the 1st Celerite term or j=1 case\n",
    "term1 = np.log(sigma)\n",
    "term2 = np.log(sigma)\n",
    "\n",
    "term1 = logsumexp([term1, np.log(mapack[0])+np.log(r1)])\n",
    "term2 = logsumexp([term2, np.log(mapack[0])+np.log(-r1)])\n",
    "\n",
    "full_term = 2*np.log(sigma) + term1 + term2 - np.log(np.complex(-r1.real))\n",
    "full_term -= (np.log(r2-r1) + np.log(np.conj(r2) + r1))\n",
    "full_term = np.exp(full_term)\n",
    "a_1 = 0.5*full_term.real\n",
    "c_1 = -r1.real\n",
    "\n",
    "# now the second Celerite term\n",
    "term1 = np.log(sigma)\n",
    "term2 = np.log(sigma)\n",
    "\n",
    "term1 = logsumexp([term1, np.log(mapack[0])+np.log(r2)])\n",
    "term2 = logsumexp([term2, np.log(mapack[0])+np.log(-r2)])\n",
    "\n",
    "full_term = 2*np.log(sigma) + term1 + term2 - np.log(np.complex(-r2.real))\n",
    "full_term -= (np.log(r1-r2) + np.log(np.conj(r1) + r2))\n",
    "full_term = np.exp(full_term)\n",
    "a_2 = 0.5*full_term.real\n",
    "c_2 = -r2.real\n",
    "\n",
    "print('Hand Code CARMA Solver for CARMA(2,1)')\n",
    "print(f'a_1: {a_1}')\n",
    "print(f'c_1: {c_1}')\n",
    "print(f'a_2: {a_2}')\n",
    "print(f'c_2: {c_2}')\n",
    "\n",
    "print('\\nSolution provided by Celerite CARMA Solver')\n",
    "carma_solver = CARMASolver(np.log(sigma), np.log(arpar), np.log(mapar))\n",
    "carma_solver.get_celerite_coeffs()"
   ]
  },
  {
   "cell_type": "markdown",
   "metadata": {},
   "source": [
    "### 3. Find matches between CARMA ACF and Celerite terms\n",
    "From the tests done above, we can see that vectorized ACF are quiet robust. We will start using that function only from now on."
   ]
  },
  {
   "cell_type": "markdown",
   "metadata": {},
   "source": [
    "#### 3.1 Test how np.roots order the roots\n",
    "**3.1.1** 4 complex and 1 real roots"
   ]
  },
  {
   "cell_type": "code",
   "execution_count": 249,
   "metadata": {},
   "outputs": [
    {
     "name": "stdout",
     "output_type": "stream",
     "text": [
      "Polynomical coeffs: [ 1.32  5.92 10.9  10.3   5.    1.  ]\n",
      "Roots from np.roots: \n",
      "[-1.+0.4472136j  -1.-0.4472136j  -1.+0.31622777j -1.-0.31622777j\n",
      " -1.+0.j        ]\n"
     ]
    }
   ],
   "source": [
    "import numpy.polynomial.polynomial as poly\n",
    "\n",
    "# 4 complex, 1 real\n",
    "p1 = poly.Polynomial([1.2, 2, 1])\n",
    "p2 = poly.Polynomial([1,1])\n",
    "p3 = poly.Polynomial([1.1, 2, 1])\n",
    "p4a = p1*p2*p3\n",
    "print (f'Polynomical coeffs: {p4a.coef}') # this should from low to high\n",
    "print (f'Roots from np.roots: \\n{np.roots(p4a.coef[::-1])}')"
   ]
  },
  {
   "cell_type": "markdown",
   "metadata": {},
   "source": [
    "**3.1.2** 2 complex and 3 real roots"
   ]
  },
  {
   "cell_type": "code",
   "execution_count": 250,
   "metadata": {},
   "outputs": [
    {
     "name": "stdout",
     "output_type": "stream",
     "text": [
      "Polynomical coeffs: [0.88 4.68 9.7  9.9  5.   1.  ]\n",
      "Roots from np.roots: \n",
      "[-1.4472136+0.j         -1.       +0.31622777j -1.       -0.31622777j\n",
      " -1.       +0.j         -0.5527864+0.j        ]\n"
     ]
    }
   ],
   "source": [
    "p1 = poly.Polynomial([0.8, 2, 1])\n",
    "p2 = poly.Polynomial([1,1])\n",
    "p3 = poly.Polynomial([1.1, 2, 1])\n",
    "p4b = p1*p2*p3\n",
    "print (f'Polynomical coeffs: {p4b.coef}') # this should from low to high\n",
    "print (f'Roots from np.roots: \\n{np.roots(p4b.coef[::-1])}')"
   ]
  },
  {
   "cell_type": "markdown",
   "metadata": {},
   "source": [
    "#### 3.2 Function to return real/complex Celerite coeffs given ACF and roots"
   ]
  },
  {
   "cell_type": "code",
   "execution_count": 240,
   "metadata": {},
   "outputs": [],
   "source": [
    "def get_real_coeffs(acf, roots):\n",
    "    \n",
    "    ar = []\n",
    "    cr = []\n",
    "    \n",
    "    mask = np.iscomplex(roots)\n",
    "    acf_real = acf[~mask]\n",
    "    roots_real = roots[~mask]\n",
    "    \n",
    "    for i in range(len(acf_real)):\n",
    "        ar.append(acf_real[i].real)\n",
    "        cr.append(-roots_real[i].real)\n",
    "    return ar, cr\n",
    "\n",
    "def get_complex_coeffs(acf, roots):\n",
    "    \n",
    "    ac = []\n",
    "    bc = []\n",
    "    cc = []\n",
    "    dc = []\n",
    "\n",
    "    mask = np.iscomplex(roots)\n",
    "    acf_complex = acf[mask]\n",
    "    roots_complex = roots[mask]\n",
    "    \n",
    "    for i in range(len(acf_complex)):\n",
    "        \n",
    "        # only take every other root/acf\n",
    "        if (i%2 == 0):            \n",
    "            ac.append(2*acf_complex[i].real)\n",
    "            bc.append(2*acf_complex[i].imag)\n",
    "            cc.append(-roots_complex[i].real)\n",
    "            dc.append(-roots_complex[i].imag)            \n",
    "    \n",
    "    return ac, bc, cc, dc\n"
   ]
  },
  {
   "cell_type": "code",
   "execution_count": 251,
   "metadata": {},
   "outputs": [
    {
     "name": "stdout",
     "output_type": "stream",
     "text": [
      "Real Coeffs for 1st example:\n",
      "([1.4518002322881882], [1.0000000000001117])\n",
      "\n",
      "Complex Coeffs for 1st example:\n",
      "([0.6223972478715787, -1.9842440782801842], [1.1386820906581192, -1.8947972890619964], [1.0000000000000089, 0.9999999999999333], [-0.4472135955000447, -0.31622776601671737])\n"
     ]
    }
   ],
   "source": [
    "print('Real Coeffs for 1st example:')\n",
    "print(get_real_coeffs(acf(p4a.coef[::-1][1:], [1]), np.roots(p4a.coef[::-1])))\n",
    "\n",
    "print('\\nComplex Coeffs for 1st example:')\n",
    "print(get_complex_coeffs(acf(p4a.coef[::-1][1:], [1]), np.roots(p4a.coef[::-1])))"
   ]
  },
  {
   "cell_type": "code",
   "execution_count": 252,
   "metadata": {},
   "outputs": [
    {
     "name": "stdout",
     "output_type": "stream",
     "text": [
      "Real Coeffs for 2nd example:\n",
      "([0.09660923971588471, -1.6046213093707336, 0.9665354598354214], [1.4472135954998717, 1.0000000000002485, 0.5527864045000291])\n",
      "\n",
      "Complex Coeffs for 2nd example:\n",
      "([0.7045361493508302], [0.7146219196211127], [0.999999999999925], [-0.31622776601678976])\n"
     ]
    }
   ],
   "source": [
    "print('Real Coeffs for 2nd example:')\n",
    "print(get_real_coeffs(acf(p4b.coef[::-1][1:], [1]), np.roots(p4b.coef[::-1])))\n",
    "\n",
    "print('\\nComplex Coeffs for 2nd example:')\n",
    "print(get_complex_coeffs(acf(p4b.coef[::-1][1:], [1]), np.roots(p4b.coef[::-1])))"
   ]
  },
  {
   "cell_type": "code",
   "execution_count": null,
   "metadata": {},
   "outputs": [],
   "source": []
  }
 ],
 "metadata": {
  "kernelspec": {
   "display_name": "Python 3",
   "language": "python",
   "name": "python3"
  },
  "language_info": {
   "codemirror_mode": {
    "name": "ipython",
    "version": 3
   },
   "file_extension": ".py",
   "mimetype": "text/x-python",
   "name": "python",
   "nbconvert_exporter": "python",
   "pygments_lexer": "ipython3",
   "version": "3.7.6"
  }
 },
 "nbformat": 4,
 "nbformat_minor": 4
}
