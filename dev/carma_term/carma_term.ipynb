{
 "cells": [
  {
   "cell_type": "markdown",
   "metadata": {},
   "source": [
    "### A new Celertie Term that fits CARMA\n",
    "\n",
    "<br>**Author(s):** Weixiang Yu\n",
    "<br>**Last run:** 06-30-2020\n",
    "<br>**Short description:** This notebook will follow the investigation in [CARMA->Celerite.ipynb](./CARMA->Celerite.ipynb) to write a 'CARMA_term' class to enable $\\texttt{Celerite}$ to fit CARMA processes."
   ]
  },
  {
   "cell_type": "markdown",
   "metadata": {},
   "source": [
    "## 0. Setup"
   ]
  },
  {
   "cell_type": "code",
   "execution_count": 1,
   "metadata": {},
   "outputs": [],
   "source": [
    "# import basic packages\n",
    "import numpy as np\n",
    "import pandas as pd\n",
    "import matplotlib.pyplot as plt\n",
    "import matplotlib as mpl\n",
    "import os, sys\n",
    "\n",
    "# see if local stores mpl style, else use from src\n",
    "try:\n",
    "    plt.style.use('yu_basic')\n",
    "except:\n",
    "    mpl.rc_file('https://raw.githubusercontent.com/ywx649999311/project_template'\n",
    "                '/master/%7B%7Bcookiecutter.project_name%7D%7D/src/vis/mpl/yu_basic.rc')\n",
    "\n",
    "pd.set_option('display.max_columns', 999)\n",
    "%matplotlib inline"
   ]
  },
  {
   "cell_type": "code",
   "execution_count": 2,
   "metadata": {},
   "outputs": [],
   "source": [
    "import celerite\n",
    "from celerite import GP, terms\n",
    "from celerite.solver import get_kernel_value, CARMASolver"
   ]
  },
  {
   "cell_type": "markdown",
   "metadata": {},
   "source": [
    "## 1. New Celerite Terms (DRW, DHO, CARMA)"
   ]
  },
  {
   "cell_type": "code",
   "execution_count": 3,
   "metadata": {},
   "outputs": [],
   "source": [
    "class DRW_term(terms.Term):\n",
    "    \"\"\"\n",
    "    Damped Random Walk term with two parameters, 'log_sigma' and 'log_tau'.\n",
    "    \n",
    "    Args:\n",
    "        log_sigma(float): Sigma is the standard deviation of the DRW process.\n",
    "        log_tau(float): Tau is the characteristic timescale of the DRW process.\n",
    "    \"\"\"\n",
    "    parameter_names = ('log_sigma', 'log_tau')\n",
    "    \n",
    "    def get_real_coefficients(self, params):\n",
    "        log_sigma, log_tau = params\n",
    "        \n",
    "        return (\n",
    "            np.exp(2*log_sigma),\n",
    "            1/np.exp(log_tau)\n",
    "        )\n",
    "    \n",
    "    def get_perturb_amp(self):\n",
    "        log_sigma, log_tau = self.get_parameter_vector()\n",
    "        \n",
    "        return np.exp((log_sigma-np.log(1/2)-log_tau)/2)\n",
    "    \n",
    "    \n",
    "    def get_rms_amp(self, params):\n",
    "        log_sigma, log_tau = params\n",
    "        \n",
    "        return np.exp(log_sigma)"
   ]
  },
  {
   "cell_type": "code",
   "execution_count": 4,
   "metadata": {},
   "outputs": [],
   "source": [
    "class DHO_term(terms.Term):\n",
    "    \n",
    "    parameter_names = ('log_a1', 'log_a2', 'log_b0', 'log_b1')\n",
    "    \n",
    "    def acf(self, arparam, maparam):\n",
    "        p = len(arparam)\n",
    "        q = len(maparam)-1    \n",
    "        sigma = maparam[0]\n",
    "\n",
    "        # MA param into Kelly's notation\n",
    "        arparam = np.array(arparam)\n",
    "        maparam = np.array([x/sigma for x in maparam])\n",
    "\n",
    "        # get roots\n",
    "        arroots = np.roots(np.append([1], arparam))\n",
    "    #     maroots = np.roots(n_maparam[::-1])\n",
    "\n",
    "        # init acf product terms\n",
    "        num_left = 0\n",
    "        num_right = 0\n",
    "        denom = -2*arroots.real + np.zeros_like(arroots)*1j \n",
    "\n",
    "        for k in range(q+1):\n",
    "            num_left += maparam[k]*np.power(arroots, k)\n",
    "            num_right += maparam[k]*np.power(-arroots, k)\n",
    "\n",
    "        for j in range(1, p):\n",
    "            root_idx = np.arange(p)\n",
    "            root_k = arroots[np.roll(root_idx, j)]\n",
    "            denom *= (root_k - arroots)*(np.conj(root_k) + arroots)\n",
    "\n",
    "        return sigma**2*num_left*num_right/denom\n",
    "\n",
    "    def get_real_coefficients(self, params):\n",
    "        log_a1, log_a2, log_b0, log_b1 = params\n",
    "        \n",
    "        # params to normal scale\n",
    "        arpar = np.exp([log_a1, log_a2])\n",
    "        mapar = np.exp([log_b0, log_b1])\n",
    "        \n",
    "        # get roots and acf\n",
    "        roots = np.roots(np.append([1], arpar))\n",
    "        acf = self.acf(arpar, mapar)\n",
    "        \n",
    "        ar = []\n",
    "        cr = []\n",
    "    \n",
    "        mask = np.iscomplex(roots)\n",
    "        acf_real = acf[~mask]\n",
    "        roots_real = roots[~mask]\n",
    "\n",
    "        for i in range(len(acf_real)):\n",
    "            ar.append(acf_real[i].real)\n",
    "            cr.append(-roots_real[i].real)\n",
    "        return (ar, cr)\n",
    "    \n",
    "    def get_complex_coefficients(self, params):\n",
    "        log_a1, log_a2, log_b0, log_b1 = params\n",
    "        \n",
    "        # params to normal scale\n",
    "        arpar = np.exp([log_a1, log_a2])\n",
    "        mapar = np.exp([log_b0, log_b1])\n",
    "        \n",
    "        # get roots and acf\n",
    "        roots = np.roots(np.append([1], arpar))\n",
    "        acf = self.acf(arpar, mapar)\n",
    "        \n",
    "        ac = []\n",
    "        bc = []\n",
    "        cc = []\n",
    "        dc = []\n",
    "\n",
    "        mask = np.iscomplex(roots)\n",
    "        acf_complex = acf[mask]\n",
    "        roots_complex = roots[mask]\n",
    "\n",
    "        for i in range(len(acf_complex)):\n",
    "\n",
    "            # only take every other root/acf\n",
    "            if (i%2 == 0):            \n",
    "                ac.append(2*acf_complex[i].real)\n",
    "                bc.append(2*acf_complex[i].imag)\n",
    "                cc.append(-roots_complex[i].real)\n",
    "                dc.append(-roots_complex[i].imag)            \n",
    "\n",
    "        return (ac, bc, cc, dc)        "
   ]
  },
  {
   "cell_type": "code",
   "execution_count": 5,
   "metadata": {},
   "outputs": [],
   "source": [
    "class CARMA_term(terms.Term):\n",
    "\n",
    "    def __init__(self, log_arpars, log_mapars, *args, **kwargs):\n",
    "        \n",
    "        arpar_temp = 'log_a{}'\n",
    "        mapar_temp = 'log_b{}'\n",
    "        arpar_names = ('log_a1',)\n",
    "        mapar_names = ('log_b0',)      \n",
    "        \n",
    "        self.arpars = np.exp(log_arpars)\n",
    "        self.mapars = np.exp(log_mapars)\n",
    "        self.p = len(self.arpars)\n",
    "        self.q = len(self.mapars)-1\n",
    "        \n",
    "        # combine ar and ma params into one array\n",
    "        log_pars = np.append(log_arpars, log_mapars)\n",
    "        \n",
    "        # loop over par array to find out how many params\n",
    "        for i in range(2, self.p+1):\n",
    "            arpar_names += (arpar_temp.format(i),)\n",
    "            \n",
    "        for i in range(1, self.q+1):\n",
    "            mapar_names += (mapar_temp.format(i),)\n",
    "        \n",
    "        self.parameter_names = arpar_names + mapar_names\n",
    "        super(CARMA_term, self).__init__(*log_pars, **kwargs)\n",
    "        \n",
    "    def acf(self, arparam, maparam):\n",
    "        p = len(arparam)\n",
    "        q = len(maparam)-1    \n",
    "        sigma = maparam[0]\n",
    "\n",
    "        # MA param into Kelly's notation\n",
    "        arparam = np.array(arparam)\n",
    "        maparam = np.array([x/sigma for x in maparam])\n",
    "\n",
    "        # get roots\n",
    "        arroots = np.roots(np.append([1], arparam))\n",
    "    #     maroots = np.roots(n_maparam[::-1])\n",
    "\n",
    "        # init acf product terms\n",
    "        num_left = 0\n",
    "        num_right = 0\n",
    "        denom = -2*arroots.real + np.zeros_like(arroots)*1j \n",
    "\n",
    "        for k in range(q+1):\n",
    "            num_left += maparam[k]*np.power(arroots, k)\n",
    "            num_right += maparam[k]*np.power(-arroots, k)\n",
    "\n",
    "        for j in range(1, p):\n",
    "            root_idx = np.arange(p)\n",
    "            root_k = arroots[np.roll(root_idx, j)]\n",
    "            denom *= (root_k - arroots)*(np.conj(root_k) + arroots)\n",
    "\n",
    "        return sigma**2*num_left*num_right/denom\n",
    "\n",
    "    def get_real_coefficients(self, params):\n",
    "        \n",
    "        # get roots and acf\n",
    "        roots = np.roots(np.append([1], self.arpars))\n",
    "        acf = self.acf(self.arpars, self.mapars)\n",
    "        \n",
    "        ar = []\n",
    "        cr = []\n",
    "    \n",
    "        mask = np.iscomplex(roots)\n",
    "        acf_real = acf[~mask]\n",
    "        roots_real = roots[~mask]\n",
    "\n",
    "        for i in range(len(acf_real)):\n",
    "            ar.append(acf_real[i].real)\n",
    "            cr.append(-roots_real[i].real)\n",
    "        return (ar, cr)\n",
    "    \n",
    "    def get_complex_coefficients(self, params):\n",
    "                \n",
    "        # get roots and acf\n",
    "        roots = np.roots(np.append([1], self.arpars))\n",
    "        acf = self.acf(self.arpars, self.mapars)\n",
    "        \n",
    "        ac = []\n",
    "        bc = []\n",
    "        cc = []\n",
    "        dc = []\n",
    "\n",
    "        mask = np.iscomplex(roots)\n",
    "        acf_complex = acf[mask]\n",
    "        roots_complex = roots[mask]\n",
    "\n",
    "        for i in range(len(acf_complex)):\n",
    "\n",
    "            # only take every other root/acf\n",
    "            if (i%2 == 0):            \n",
    "                ac.append(2*acf_complex[i].real)\n",
    "                bc.append(2*acf_complex[i].imag)\n",
    "                cc.append(-roots_complex[i].real)\n",
    "                dc.append(-roots_complex[i].imag)            \n",
    "\n",
    "        return (ac, bc, cc, dc)        "
   ]
  },
  {
   "cell_type": "markdown",
   "metadata": {},
   "source": [
    "## 2. Compare the output of fixed order and more general CARMA terms"
   ]
  },
  {
   "cell_type": "markdown",
   "metadata": {},
   "source": [
    "### 2.1 CARMA(2,1) Real"
   ]
  },
  {
   "cell_type": "code",
   "execution_count": 40,
   "metadata": {},
   "outputs": [
    {
     "data": {
      "text/plain": [
       "[array([-0.0920085,  0.4670085]),\n",
       " array([1.4472136, 0.5527864]),\n",
       " array([], dtype=float64),\n",
       " array([], dtype=float64),\n",
       " array([], dtype=float64),\n",
       " array([], dtype=float64)]"
      ]
     },
     "execution_count": 40,
     "metadata": {},
     "output_type": "execute_result"
    }
   ],
   "source": [
    "dho = DHO_term(np.log(2), np.log(0.8), np.log(1), np.log(0.5))\n",
    "dho.get_all_coefficients()"
   ]
  },
  {
   "cell_type": "code",
   "execution_count": 41,
   "metadata": {},
   "outputs": [
    {
     "data": {
      "text/plain": [
       "[array([-0.0920085,  0.4670085]),\n",
       " array([1.4472136, 0.5527864]),\n",
       " array([], dtype=float64),\n",
       " array([], dtype=float64),\n",
       " array([], dtype=float64),\n",
       " array([], dtype=float64)]"
      ]
     },
     "execution_count": 41,
     "metadata": {},
     "output_type": "execute_result"
    }
   ],
   "source": [
    "carma = CARMA_term(np.log([2,0.8]), np.log([1,0.5]))\n",
    "carma.get_all_coefficients()"
   ]
  },
  {
   "cell_type": "markdown",
   "metadata": {},
   "source": [
    "### 2.2 CARMA(2,1) Complex"
   ]
  },
  {
   "cell_type": "code",
   "execution_count": 42,
   "metadata": {},
   "outputs": [
    {
     "data": {
      "text/plain": [
       "[array([], dtype=float64),\n",
       " array([], dtype=float64),\n",
       " array([2.45833333]),\n",
       " array([4.56530545]),\n",
       " array([1.]),\n",
       " array([-0.4472136])]"
      ]
     },
     "execution_count": 42,
     "metadata": {},
     "output_type": "execute_result"
    }
   ],
   "source": [
    "dho = DHO_term(np.log(2), np.log(1.2), np.log(1), np.log(3))\n",
    "dho.get_all_coefficients()"
   ]
  },
  {
   "cell_type": "code",
   "execution_count": 44,
   "metadata": {},
   "outputs": [
    {
     "data": {
      "text/plain": [
       "[array([], dtype=float64),\n",
       " array([], dtype=float64),\n",
       " array([2.45833333]),\n",
       " array([4.56530545]),\n",
       " array([1.]),\n",
       " array([-0.4472136])]"
      ]
     },
     "execution_count": 44,
     "metadata": {},
     "output_type": "execute_result"
    }
   ],
   "source": [
    "carma = CARMA_term(np.log([2,1.2]), np.log([1,3]))\n",
    "carma.get_all_coefficients()"
   ]
  },
  {
   "cell_type": "markdown",
   "metadata": {},
   "source": [
    "### 2.3 CARMA(1,0)\n",
    "Note that `DRW_term` takes $\\tau$ and $\\sigma$ as the standard deviation"
   ]
  },
  {
   "cell_type": "code",
   "execution_count": 6,
   "metadata": {},
   "outputs": [
    {
     "data": {
      "text/plain": [
       "[array([1.]),\n",
       " array([0.005]),\n",
       " array([], dtype=float64),\n",
       " array([], dtype=float64),\n",
       " array([], dtype=float64),\n",
       " array([], dtype=float64)]"
      ]
     },
     "execution_count": 6,
     "metadata": {},
     "output_type": "execute_result"
    }
   ],
   "source": [
    "carma = CARMA_term(np.log([1/200]), np.log([0.1]))\n",
    "carma.get_all_coefficients()"
   ]
  },
  {
   "cell_type": "code",
   "execution_count": 7,
   "metadata": {},
   "outputs": [
    {
     "data": {
      "text/plain": [
       "[array([1.]),\n",
       " array([0.005]),\n",
       " array([], dtype=float64),\n",
       " array([], dtype=float64),\n",
       " array([], dtype=float64),\n",
       " array([], dtype=float64)]"
      ]
     },
     "execution_count": 7,
     "metadata": {},
     "output_type": "execute_result"
    }
   ],
   "source": [
    "drw = DRW_term(np.log(1), np.log(200))\n",
    "drw.get_all_coefficients()"
   ]
  }
 ],
 "metadata": {
  "kernelspec": {
   "display_name": "Python 3",
   "language": "python",
   "name": "python3"
  },
  "language_info": {
   "codemirror_mode": {
    "name": "ipython",
    "version": 3
   },
   "file_extension": ".py",
   "mimetype": "text/x-python",
   "name": "python",
   "nbconvert_exporter": "python",
   "pygments_lexer": "ipython3",
   "version": "3.7.6"
  }
 },
 "nbformat": 4,
 "nbformat_minor": 4
}
