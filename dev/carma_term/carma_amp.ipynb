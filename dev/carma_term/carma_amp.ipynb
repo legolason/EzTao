{
 "cells": [
  {
   "cell_type": "markdown",
   "metadata": {},
   "source": [
    "### Get CARMA RMS Amp from parameters\n",
    "\n",
    "<br>**Author(s):** Weixiang Yu\n",
    "<br>**Last run:** 06-30-2020\n",
    "<br>**Short description:** This notebook will try to calculate the asymptotic amplitude (or RMS deviation) of the underlying CARMA process from its parameters. "
   ]
  },
  {
   "cell_type": "markdown",
   "metadata": {},
   "source": [
    "## 0. Setup"
   ]
  },
  {
   "cell_type": "code",
   "execution_count": 1,
   "metadata": {},
   "outputs": [],
   "source": [
    "# import basic packages\n",
    "import numpy as np\n",
    "import pandas as pd\n",
    "import matplotlib.pyplot as plt\n",
    "import matplotlib as mpl\n",
    "import os, sys\n",
    "\n",
    "# see if local stores mpl style, else use from src\n",
    "try:\n",
    "    plt.style.use('yu_basic')\n",
    "except:\n",
    "    mpl.rc_file('https://raw.githubusercontent.com/ywx649999311/project_template'\n",
    "                '/master/%7B%7Bcookiecutter.project_name%7D%7D/src/vis/mpl/yu_basic.rc')\n",
    "\n",
    "pd.set_option('display.max_columns', 999)\n",
    "%matplotlib inline"
   ]
  },
  {
   "cell_type": "code",
   "execution_count": 2,
   "metadata": {},
   "outputs": [],
   "source": [
    "# import kali & Celerite\n",
    "import kali.carma\n",
    "\n",
    "import celerite\n",
    "from celerite import GP, terms\n",
    "from celerite.solver import get_kernel_value, CARMASolver"
   ]
  },
  {
   "cell_type": "code",
   "execution_count": 3,
   "metadata": {},
   "outputs": [],
   "source": [
    "def acf(arparam, maparam):\n",
    "    p = len(arparam)\n",
    "    q = len(maparam)-1    \n",
    "    sigma = maparam[0]\n",
    "    \n",
    "    # MA param into Kell's notation\n",
    "    arparam = np.array(arparam)\n",
    "    maparam = np.array([x/sigma for x in maparam])\n",
    "    \n",
    "    # get roots\n",
    "    arroots = np.roots(np.append([1], arparam))\n",
    "#     maroots = np.roots(n_maparam[::-1])\n",
    "    \n",
    "    # init acf product terms\n",
    "    num_left = 0\n",
    "    num_right = 0\n",
    "    denom = -2*arroots.real + np.zeros_like(arroots)*1j \n",
    "    \n",
    "    for k in range(q+1):\n",
    "        num_left += maparam[k]*np.power(arroots, k)\n",
    "        num_right += maparam[k]*np.power(-arroots, k)\n",
    "\n",
    "    for j in range(1, p):\n",
    "        root_idx = np.arange(p)\n",
    "        root_k = arroots[np.roll(root_idx, j)]\n",
    "        denom *= (root_k - arroots)*(np.conj(root_k) + arroots)\n",
    "\n",
    "    return sigma**2*num_left*num_right/denom"
   ]
  },
  {
   "cell_type": "markdown",
   "metadata": {},
   "source": [
    "## 1. Amp from Params"
   ]
  },
  {
   "cell_type": "code",
   "execution_count": 4,
   "metadata": {},
   "outputs": [],
   "source": [
    "# define function to get amp^2\n",
    "def get_variance(arparam, maparam):\n",
    "    acf_ls = acf(arparam, maparam)\n",
    "    return np.sum(acf_ls)"
   ]
  },
  {
   "cell_type": "markdown",
   "metadata": {},
   "source": [
    "### 1.1 CARMA(1,0)\n",
    "Test with:\n",
    "- $\\alpha$ = 1/50, $\\sigma$ = 0.1\n",
    "- $\\alpha$ = 1/100, $\\sigma$ = 0.01"
   ]
  },
  {
   "cell_type": "code",
   "execution_count": 5,
   "metadata": {},
   "outputs": [
    {
     "data": {
      "text/plain": [
       "True"
      ]
     },
     "execution_count": 5,
     "metadata": {},
     "output_type": "execute_result"
    }
   ],
   "source": [
    "# get variance from acf\n",
    "ar_drw_1 = 1/50.0\n",
    "ma_drw_1 = 0.1\n",
    "var_from_acf = get_variance([ar_drw_1], [ma_drw_1])\n",
    "\n",
    "# get variance from kali\n",
    "task = kali.carma.CARMATask(1,0)\n",
    "task.set(0.1, np.array([ar_drw_1, ma_drw_1]))\n",
    "var_from_kali = task.Sigma()[0][0]\n",
    "\n",
    "# compare if close\n",
    "np.isclose(var_from_acf, var_from_kali)"
   ]
  },
  {
   "cell_type": "code",
   "execution_count": 6,
   "metadata": {},
   "outputs": [
    {
     "data": {
      "text/plain": [
       "True"
      ]
     },
     "execution_count": 6,
     "metadata": {},
     "output_type": "execute_result"
    }
   ],
   "source": [
    "# get variance from acf\n",
    "ar_drw_1 = 1/100.0\n",
    "ma_drw_1 = 0.01\n",
    "var_from_acf = get_variance([ar_drw_1], [ma_drw_1])\n",
    "\n",
    "# get variance from kali\n",
    "task = kali.carma.CARMATask(1,0)\n",
    "task.set(0.1, np.array([ar_drw_1, ma_drw_1]))\n",
    "var_from_kali = task.Sigma()[0][0]\n",
    "\n",
    "# compare if close\n",
    "np.isclose(var_from_acf, var_from_kali)"
   ]
  },
  {
   "cell_type": "markdown",
   "metadata": {},
   "source": [
    "### 1.2 CARMA(2,0)\n",
    "Test with:\n",
    "- arparam=[2, 1.1], maparam=[0.5]\n",
    "- arparam=[2, 0.8], maparam=[2] "
   ]
  },
  {
   "cell_type": "code",
   "execution_count": 57,
   "metadata": {},
   "outputs": [
    {
     "data": {
      "text/plain": [
       "True"
      ]
     },
     "execution_count": 57,
     "metadata": {},
     "output_type": "execute_result"
    }
   ],
   "source": [
    "# CARMA (2,0)\n",
    "ar1 = np.array([2, 1.1])\n",
    "ma1 = np.array([0.5])\n",
    "\n",
    "# get variance from acf\n",
    "var_from_acf = get_variance(ar1, ma1)\n",
    "\n",
    "# get variance from kali\n",
    "task = kali.carma.CARMATask(2,0)\n",
    "task.set(0.1, np.concatenate([ar1, ma1]))\n",
    "var_from_kali = task.Sigma()[0][0]\n",
    "\n",
    "# compare if close\n",
    "np.isclose(var_from_acf, var_from_kali)"
   ]
  },
  {
   "cell_type": "code",
   "execution_count": 58,
   "metadata": {},
   "outputs": [
    {
     "data": {
      "text/plain": [
       "True"
      ]
     },
     "execution_count": 58,
     "metadata": {},
     "output_type": "execute_result"
    }
   ],
   "source": [
    "ar2 = np.array([2, 0.8])\n",
    "ma2 = np.array([2])\n",
    "\n",
    "# get variance from acf\n",
    "var_from_acf = get_variance(ar2, ma2)\n",
    "\n",
    "# get variance from kali\n",
    "task = kali.carma.CARMATask(2,0)\n",
    "task.set(0.1, np.concatenate([ar2, ma2]))\n",
    "var_from_kali = task.Sigma()[0][0]\n",
    "\n",
    "# compare if close\n",
    "np.isclose(var_from_acf, var_from_kali)"
   ]
  },
  {
   "cell_type": "markdown",
   "metadata": {},
   "source": [
    "### 1.3 CARMA(2,1)\n",
    "Test with:\n",
    "- arparam=[2, 0.8], maparam=[1, 0.5] \n",
    "- arparam=[2, 1.2], maparam=[1, 2]"
   ]
  },
  {
   "cell_type": "code",
   "execution_count": 12,
   "metadata": {},
   "outputs": [
    {
     "data": {
      "text/plain": [
       "True"
      ]
     },
     "execution_count": 12,
     "metadata": {},
     "output_type": "execute_result"
    }
   ],
   "source": [
    "ar3 = np.array([2, 0.8])\n",
    "ma3 = np.array([1, 0.5])\n",
    "\n",
    "# get variance from acf\n",
    "var_from_acf = get_variance(ar3, ma3)\n",
    "\n",
    "# get variance from kali\n",
    "task = kali.carma.CARMATask(2,1)\n",
    "task.set(0.1, np.concatenate([ar3, ma3]))\n",
    "var_from_kali = task.Sigma()[0][0]\n",
    "\n",
    "# compare if close\n",
    "np.isclose(var_from_acf, var_from_kali)"
   ]
  },
  {
   "cell_type": "code",
   "execution_count": 8,
   "metadata": {},
   "outputs": [
    {
     "data": {
      "text/plain": [
       "True"
      ]
     },
     "execution_count": 8,
     "metadata": {},
     "output_type": "execute_result"
    }
   ],
   "source": [
    "ar4 = np.array([2, 1.2])\n",
    "ma4 = np.array([1, 3])\n",
    "\n",
    "# get variance from acf\n",
    "var_from_acf = get_variance(ar4, ma4)\n",
    "\n",
    "# get variance from kali\n",
    "task = kali.carma.CARMATask(2,1)\n",
    "task.set(0.1, np.concatenate([ar4, ma4]))\n",
    "var_from_kali = task.Sigma()[0][0]\n",
    "\n",
    "# compare if close\n",
    "np.isclose(var_from_acf, var_from_kali)"
   ]
  },
  {
   "cell_type": "markdown",
   "metadata": {},
   "source": [
    "### 1.4 CARMA(3, 0)\n",
    "Test with:\n",
    "- arparam=[3, 2.8, 0.8], maparam=[1] \n",
    "- arparam=[3, 3.2, 1.2], maparam=[1]"
   ]
  },
  {
   "cell_type": "code",
   "execution_count": 14,
   "metadata": {},
   "outputs": [
    {
     "data": {
      "text/plain": [
       "True"
      ]
     },
     "execution_count": 14,
     "metadata": {},
     "output_type": "execute_result"
    }
   ],
   "source": [
    "ar5 = np.array([3, 2.8, 0.8])\n",
    "ma5 = np.array([1])\n",
    "\n",
    "# get variance from acf\n",
    "var_from_acf = get_variance(ar5, ma5)\n",
    "\n",
    "# get variance from kali\n",
    "task = kali.carma.CARMATask(3,0)\n",
    "task.set(0.1, np.concatenate([ar5, ma5]))\n",
    "var_from_kali = task.Sigma()[0][0]\n",
    "\n",
    "# compare if close\n",
    "np.isclose(var_from_acf, var_from_kali)"
   ]
  },
  {
   "cell_type": "code",
   "execution_count": 16,
   "metadata": {},
   "outputs": [
    {
     "data": {
      "text/plain": [
       "True"
      ]
     },
     "execution_count": 16,
     "metadata": {},
     "output_type": "execute_result"
    }
   ],
   "source": [
    "ar6 = np.array([3, 3.2, 1.2])\n",
    "ma6 = np.array([1])\n",
    "\n",
    "# get variance from acf\n",
    "var_from_acf = get_variance(ar6, ma6)\n",
    "\n",
    "# get variance from kali\n",
    "task = kali.carma.CARMATask(3,0)\n",
    "task.set(0.1, np.concatenate([ar6, ma6]))\n",
    "var_from_kali = task.Sigma()[0][0]\n",
    "\n",
    "# compare if close\n",
    "np.isclose(var_from_acf, var_from_kali)"
   ]
  },
  {
   "cell_type": "code",
   "execution_count": null,
   "metadata": {},
   "outputs": [],
   "source": []
  }
 ],
 "metadata": {
  "kernelspec": {
   "display_name": "Python 3",
   "language": "python",
   "name": "python3"
  },
  "language_info": {
   "codemirror_mode": {
    "name": "ipython",
    "version": 3
   },
   "file_extension": ".py",
   "mimetype": "text/x-python",
   "name": "python",
   "nbconvert_exporter": "python",
   "pygments_lexer": "ipython3",
   "version": "3.7.6"
  }
 },
 "nbformat": 4,
 "nbformat_minor": 4
}
